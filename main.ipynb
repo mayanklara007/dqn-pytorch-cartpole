{
  "nbformat": 4,
  "nbformat_minor": 0,
  "metadata": {
    "colab": {
      "name": "Project 3.ipynb",
      "provenance": [],
      "collapsed_sections": [],
      "toc_visible": true
    },
    "kernelspec": {
      "display_name": "Python 3",
      "language": "python",
      "name": "python3"
    },
    "language_info": {
      "codemirror_mode": {
        "name": "ipython",
        "version": 3
      },
      "file_extension": ".py",
      "mimetype": "text/x-python",
      "name": "python",
      "nbconvert_exporter": "python",
      "pygments_lexer": "ipython3",
      "version": "3.6.5"
    }
  },
  "cells": [
    {
      "cell_type": "markdown",
      "metadata": {
        "id": "3nvtmDDRMQtQ"
      },
      "source": [
        "# Project 3: Reinforcement Learning (Deep Q Network using Pytorch)\n",
        
      ]
    },
    {
      "cell_type": "code",
      "metadata": {
        "id": "w2XZGHowv7S_",
        "colab": {
          "base_uri": "https://localhost:8080/"
        },
        "outputId": "ef320bb4-9927-4463-9e3d-11b739489c93"
      },
      "source": [
        "#Install the following packages\n",
        "!pip install gym\n",
        "!apt-get install python-opengl -y\n",
        "!apt install xvfb -y\n",
        "!pip install pyvirtualdisplay\n",
        "!pip install piglet"
      ],
      "execution_count": null,
      "outputs": [
        {
          "output_type": "stream",
          "text": [
            "Requirement already satisfied: gym in /usr/local/lib/python3.6/dist-packages (0.17.3)\n",
            "Requirement already satisfied: pyglet<=1.5.0,>=1.4.0 in /usr/local/lib/python3.6/dist-packages (from gym) (1.5.0)\n",
            "Requirement already satisfied: numpy>=1.10.4 in /usr/local/lib/python3.6/dist-packages (from gym) (1.18.5)\n",
            "Requirement already satisfied: cloudpickle<1.7.0,>=1.2.0 in /usr/local/lib/python3.6/dist-packages (from gym) (1.3.0)\n",
            "Requirement already satisfied: scipy in /usr/local/lib/python3.6/dist-packages (from gym) (1.4.1)\n",
            "Requirement already satisfied: future in /usr/local/lib/python3.6/dist-packages (from pyglet<=1.5.0,>=1.4.0->gym) (0.16.0)\n",
            "Reading package lists... Done\n",
            "Building dependency tree       \n",
            "Reading state information... Done\n",
            "Suggested packages:\n",
            "  libgle3\n",
            "The following NEW packages will be installed:\n",
            "  python-opengl\n",
            "0 upgraded, 1 newly installed, 0 to remove and 14 not upgraded.\n",
            "Need to get 496 kB of archives.\n",
            "After this operation, 5,416 kB of additional disk space will be used.\n",
            "Get:1 http://archive.ubuntu.com/ubuntu bionic/universe amd64 python-opengl all 3.1.0+dfsg-1 [496 kB]\n",
            "Fetched 496 kB in 1s (600 kB/s)\n",
            "Selecting previously unselected package python-opengl.\n",
            "(Reading database ... 144793 files and directories currently installed.)\n",
            "Preparing to unpack .../python-opengl_3.1.0+dfsg-1_all.deb ...\n",
            "Unpacking python-opengl (3.1.0+dfsg-1) ...\n",
            "Setting up python-opengl (3.1.0+dfsg-1) ...\n",
            "Reading package lists... Done\n",
            "Building dependency tree       \n",
            "Reading state information... Done\n",
            "The following NEW packages will be installed:\n",
            "  xvfb\n",
            "0 upgraded, 1 newly installed, 0 to remove and 14 not upgraded.\n",
            "Need to get 783 kB of archives.\n",
            "After this operation, 2,266 kB of additional disk space will be used.\n",
            "Err:1 http://archive.ubuntu.com/ubuntu bionic-updates/universe amd64 xvfb amd64 2:1.19.6-1ubuntu4.7\n",
            "  404  Not Found [IP: 91.189.88.142 80]\n",
            "E: Failed to fetch http://archive.ubuntu.com/ubuntu/pool/universe/x/xorg-server/xvfb_1.19.6-1ubuntu4.7_amd64.deb  404  Not Found [IP: 91.189.88.142 80]\n",
            "E: Unable to fetch some archives, maybe run apt-get update or try with --fix-missing?\n",
            "Collecting pyvirtualdisplay\n",
            "  Downloading https://files.pythonhosted.org/packages/d0/8a/643043cc70791367bee2d19eb20e00ed1a246ac48e5dbe57bbbcc8be40a9/PyVirtualDisplay-1.3.2-py2.py3-none-any.whl\n",
            "Collecting EasyProcess\n",
            "  Downloading https://files.pythonhosted.org/packages/48/3c/75573613641c90c6d094059ac28adb748560d99bd27ee6f80cce398f404e/EasyProcess-0.3-py2.py3-none-any.whl\n",
            "Installing collected packages: EasyProcess, pyvirtualdisplay\n",
            "Successfully installed EasyProcess-0.3 pyvirtualdisplay-1.3.2\n",
            "Collecting piglet\n",
            "  Downloading https://files.pythonhosted.org/packages/11/56/6840e5f45626dc7eb7cd5dff57d11880b3113723b3b7b1fb1fa537855b75/piglet-1.0.0-py2.py3-none-any.whl\n",
            "Collecting piglet-templates\n",
            "\u001b[?25l  Downloading https://files.pythonhosted.org/packages/d0/dc/d628dcdf0b38b8f230e9c2309bfa370d2e3fb95e9e9c260213d10fde91ac/piglet_templates-1.0.0-py3-none-any.whl (63kB)\n",
            "\u001b[K     |████████████████████████████████| 71kB 3.5MB/s \n",
            "\u001b[?25hRequirement already satisfied: markupsafe in /usr/local/lib/python3.6/dist-packages (from piglet-templates->piglet) (1.1.1)\n",
            "Requirement already satisfied: attrs in /usr/local/lib/python3.6/dist-packages (from piglet-templates->piglet) (20.3.0)\n",
            "Requirement already satisfied: astunparse in /usr/local/lib/python3.6/dist-packages (from piglet-templates->piglet) (1.6.3)\n",
            "Collecting Parsley\n",
            "\u001b[?25l  Downloading https://files.pythonhosted.org/packages/2b/d6/4fed8d65e28a970e1c5cb33ce9c7e22e3de745e1b2ae37af051ef16aea3b/Parsley-1.3-py2.py3-none-any.whl (88kB)\n",
            "\u001b[K     |████████████████████████████████| 92kB 4.9MB/s \n",
            "\u001b[?25hRequirement already satisfied: six<2.0,>=1.6.1 in /usr/local/lib/python3.6/dist-packages (from astunparse->piglet-templates->piglet) (1.15.0)\n",
            "Requirement already satisfied: wheel<1.0,>=0.23.0 in /usr/local/lib/python3.6/dist-packages (from astunparse->piglet-templates->piglet) (0.35.1)\n",
            "Installing collected packages: Parsley, piglet-templates, piglet\n",
            "Successfully installed Parsley-1.3 piglet-1.0.0 piglet-templates-1.0.0\n"
          ],
          "name": "stdout"
        }
      ]
    },
    {
      "cell_type": "code",
      "metadata": {
        "id": "uxnBR1RSwH4v"
      },
      "source": [
        "# Do NOT change\n",
        "import os\n",
        "from pyvirtualdisplay import Display\n",
        "\n",
        "import gym\n",
        "from gym import logger as gymlogger\n",
        "from gym.wrappers import Monitor\n",
        "gymlogger.set_level(40) # error only\n",
        "import tensorflow as tf\n",
        "import numpy as np\n",
        "import random\n",
        "import matplotlib\n",
        "import matplotlib.pyplot as plt\n",
        "\n",
        "import math\n",
        "import glob\n",
        "import io\n",
        "import base64\n",
        "from IPython.display import HTML\n",
        "from IPython.display import clear_output\n",
        "\n",
        "from IPython import display as ipythondisplay\n",
        "import PIL\n",
        "\n",
        "import torch\n",
        "import torch.nn as nn\n",
        "from torch import optim\n",
        "import torch.nn.functional as F\n",
        "import torchvision.transforms as T\n",
        "\n",
        "from collections import namedtuple\n",
        "from tqdm import tqdm\n",
        "\n",
        "# Device contains the details of the compute platform: CPU or GPU\n",
        "device = torch.device('cuda' if torch.cuda.is_available() else 'cpu')\n",
        "%matplotlib inline"
      ],
      "execution_count": null,
      "outputs": []
    },
    {
      "cell_type": "code",
      "metadata": {
        "id": "T4eQjq9rMdwM",
        "colab": {
          "base_uri": "https://localhost:8080/"
        },
        "outputId": "87e57296-7668-438f-dd8a-1a1fee163b26"
      },
      "source": [
        "# Do NOT change\n",
        "!sudo apt update\n",
        "!sudo apt install xvfb\n",
        "\n",
        "display = Display(visible=0, size=(1400, 900))\n",
        "display.start()\n",
        "\n",
        "# This code creates a virtual display to draw game images on. \n",
        "# If you are running locally, just ignore it\n",
        "\n",
        "if type(os.environ.get(\"DISPLAY\")) is not str or len(os.environ.get(\"DISPLAY\"))==0:\n",
        "    !bash ../xvfb start\n",
        "    %env DISPLAY=:1"
      ],
      "execution_count": null,
      "outputs": [
        {
          "output_type": "stream",
          "text": [
            "\u001b[33m\r0% [Working]\u001b[0m\r            \rGet:1 http://security.ubuntu.com/ubuntu bionic-security InRelease [88.7 kB]\n",
            "\u001b[33m\r0% [Connecting to archive.ubuntu.com] [1 InRelease 14.2 kB/88.7 kB 16%] [Connec\u001b[0m\r                                                                               \rGet:2 https://cloud.r-project.org/bin/linux/ubuntu bionic-cran40/ InRelease [3,626 B]\n",
            "Ign:3 https://developer.download.nvidia.com/compute/cuda/repos/ubuntu1804/x86_64  InRelease\n",
            "Ign:4 https://developer.download.nvidia.com/compute/machine-learning/repos/ubuntu1804/x86_64  InRelease\n",
            "Get:5 https://developer.download.nvidia.com/compute/cuda/repos/ubuntu1804/x86_64  Release [697 B]\n",
            "Hit:6 https://developer.download.nvidia.com/compute/machine-learning/repos/ubuntu1804/x86_64  Release\n",
            "Get:7 https://developer.download.nvidia.com/compute/cuda/repos/ubuntu1804/x86_64  Release.gpg [836 B]\n",
            "Get:8 http://ppa.launchpad.net/c2d4u.team/c2d4u4.0+/ubuntu bionic InRelease [15.9 kB]\n",
            "Hit:9 http://archive.ubuntu.com/ubuntu bionic InRelease\n",
            "Get:10 http://security.ubuntu.com/ubuntu bionic-security/universe amd64 Packages [1,370 kB]\n",
            "Get:11 http://archive.ubuntu.com/ubuntu bionic-updates InRelease [88.7 kB]\n",
            "Get:13 http://ppa.launchpad.net/graphics-drivers/ppa/ubuntu bionic InRelease [21.3 kB]\n",
            "Get:14 http://security.ubuntu.com/ubuntu bionic-security/restricted amd64 Packages [236 kB]\n",
            "Get:15 http://security.ubuntu.com/ubuntu bionic-security/main amd64 Packages [1,815 kB]\n",
            "Ign:16 https://developer.download.nvidia.com/compute/cuda/repos/ubuntu1804/x86_64  Packages\n",
            "Get:16 https://developer.download.nvidia.com/compute/cuda/repos/ubuntu1804/x86_64  Packages [444 kB]\n",
            "Get:17 http://archive.ubuntu.com/ubuntu bionic-backports InRelease [74.6 kB]\n",
            "Get:18 http://ppa.launchpad.net/c2d4u.team/c2d4u4.0+/ubuntu bionic/main Sources [1,692 kB]\n",
            "Get:19 http://archive.ubuntu.com/ubuntu bionic-updates/main amd64 Packages [2,243 kB]\n",
            "Get:20 http://archive.ubuntu.com/ubuntu bionic-updates/restricted amd64 Packages [265 kB]\n",
            "Get:21 http://archive.ubuntu.com/ubuntu bionic-updates/multiverse amd64 Packages [54.3 kB]\n",
            "Get:22 http://archive.ubuntu.com/ubuntu bionic-updates/universe amd64 Packages [2,134 kB]\n",
            "Get:23 http://ppa.launchpad.net/c2d4u.team/c2d4u4.0+/ubuntu bionic/main amd64 Packages [866 kB]\n",
            "Get:24 http://ppa.launchpad.net/graphics-drivers/ppa/ubuntu bionic/main amd64 Packages [46.5 kB]\n",
            "Fetched 11.5 MB in 3s (3,769 kB/s)\n",
            "Reading package lists... Done\n",
            "Building dependency tree       \n",
            "Reading state information... Done\n",
            "68 packages can be upgraded. Run 'apt list --upgradable' to see them.\n",
            "Reading package lists... Done\n",
            "Building dependency tree       \n",
            "Reading state information... Done\n",
            "The following additional packages will be installed:\n",
            "  xserver-common\n",
            "Recommended packages:\n",
            "  xfonts-base\n",
            "The following NEW packages will be installed:\n",
            "  xvfb\n",
            "The following packages will be upgraded:\n",
            "  xserver-common\n",
            "1 upgraded, 1 newly installed, 0 to remove and 67 not upgraded.\n",
            "Need to get 811 kB of archives.\n",
            "After this operation, 2,270 kB of additional disk space will be used.\n",
            "Get:1 http://archive.ubuntu.com/ubuntu bionic-updates/main amd64 xserver-common all 2:1.19.6-1ubuntu4.8 [26.8 kB]\n",
            "Get:2 http://archive.ubuntu.com/ubuntu bionic-updates/universe amd64 xvfb amd64 2:1.19.6-1ubuntu4.8 [784 kB]\n",
            "Fetched 811 kB in 1s (769 kB/s)\n",
            "debconf: unable to initialize frontend: Dialog\n",
            "debconf: (No usable dialog-like program is installed, so the dialog based frontend cannot be used. at /usr/share/perl5/Debconf/FrontEnd/Dialog.pm line 76, <> line 2.)\n",
            "debconf: falling back to frontend: Readline\n",
            "debconf: unable to initialize frontend: Readline\n",
            "debconf: (This frontend requires a controlling tty.)\n",
            "debconf: falling back to frontend: Teletype\n",
            "dpkg-preconfigure: unable to re-open stdin: \n",
            "(Reading database ... 147148 files and directories currently installed.)\n",
            "Preparing to unpack .../xserver-common_2%3a1.19.6-1ubuntu4.8_all.deb ...\n",
            "Unpacking xserver-common (2:1.19.6-1ubuntu4.8) over (2:1.19.6-1ubuntu4.7) ...\n",
            "Selecting previously unselected package xvfb.\n",
            "Preparing to unpack .../xvfb_2%3a1.19.6-1ubuntu4.8_amd64.deb ...\n",
            "Unpacking xvfb (2:1.19.6-1ubuntu4.8) ...\n",
            "Setting up xserver-common (2:1.19.6-1ubuntu4.8) ...\n",
            "Setting up xvfb (2:1.19.6-1ubuntu4.8) ...\n",
            "Processing triggers for man-db (2.8.3-2ubuntu0.1) ...\n"
          ],
          "name": "stdout"
        }
      ]
    },
    {
      "cell_type": "code",
      "metadata": {
        "id": "5ouUwQoNwP5w"
      },
      "source": [
        "# Do NOT change\n",
        "\"\"\"\n",
        "Utility functions to enable video recording of gym environment and displaying it\n",
        "To enable video, just do \"env = wrap_env(env)\"\"\n",
        "\"\"\"\n",
        "\n",
        "def show_video():\n",
        "  mp4list = glob.glob('video/*.mp4')\n",
        "  if len(mp4list) > 0:\n",
        "    mp4 = mp4list[0]\n",
        "    video = io.open(mp4, 'r+b').read()\n",
        "    encoded = base64.b64encode(video)\n",
        "    ipythondisplay.display(HTML(data='''<video alt=\"test\" autoplay \n",
        "                loop controls style=\"height: 400px;\">\n",
        "                <source src=\"data:video/mp4;base64,{0}\" type=\"video/mp4\" />\n",
        "             </video>'''.format(encoded.decode('ascii'))))\n",
        "  else: \n",
        "    print(\"Could not find video\")\n",
        "    \n",
        "\n",
        "def wrap_env(env):\n",
        "  env = Monitor(env, './video', force=True)\n",
        "  return env"
      ],
      "execution_count": null,
      "outputs": []
    },
    {
      "cell_type": "markdown",
      "metadata": {
        "id": "RfS69fG3MtB6"
      },
      "source": [
        "### We are going to use the cart pole environment by Gym\n",
        "Run the below code to see how a randon agent performs in the cart pole environment"
      ]
    },
    {
      "cell_type": "code",
      "metadata": {
        "colab": {
          "base_uri": "https://localhost:8080/",
          "height": 421
        },
        "id": "sevwVVdTwRyP",
        "outputId": "9108bed8-9237-4ed2-ffd4-bfcf5065da82"
      },
      "source": [
        "env = gym.make('CartPole-v0')\n",
        "env = wrap_env(env)\n",
        "\n",
        "# Reset it, returns the starting frame\n",
        "frame = env.reset()\n",
        "\n",
        "is_done = False\n",
        "while not is_done:\n",
        "  # Perform a random action, returns the new frame, reward and whether the game is over\n",
        "  frame, reward, is_done, _ = env.step(env.action_space.sample())\n",
        "\n",
        "env.close()\n",
        "show_video()"
      ],
      "execution_count": null,
      "outputs": [
        {
          "output_type": "display_data",
          "data": {
            "text/html": [
              "<video alt=\"test\" autoplay \n",
              "                loop controls style=\"height: 400px;\">\n",
              "                <source src=\"data:video/mp4;base64,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\" type=\"video/mp4\" />\n",
              "             </video>"
            ],
            "text/plain": [
              "<IPython.core.display.HTML object>"
            ]
          },
          "metadata": {
            "tags": []
          }
        }
      ]
    },
    {
      "cell_type": "markdown",
      "metadata": {
        "id": "g8o41sq7wpDX"
      },
      "source": [
        "# Replay Memory"
      ]
    },
    {
      "cell_type": "code",
      "metadata": {
        "id": "MnHGlSoN8DBC"
      },
      "source": [
        "\"\"\" Step 1: Define a Replay Buffer which can store all the experiences of the agent.\n",
        "    During training, we will sample uniformly from the replay buffer and train our DQN\n",
        "    The replay buffer is already implemented.\"\"\"\n",
        "\n",
        "class ReplayBuffer(object):\n",
        "    def __init__(self, capacity):\n",
        "        self.capacity = capacity\n",
        "        self.buffer = []\n",
        "        self.pos  = 0\n",
        "    \n",
        "    def push(self, state, action, reward, next_state, done):\n",
        "\n",
        "        state = np.expand_dims(state, 0)\n",
        "        next_state = np.expand_dims(next_state, 0)\n",
        "        \n",
        "        if len(self.buffer) < self.capacity:\n",
        "            self.buffer.append((state, action, reward, next_state, done))\n",
        "        else:\n",
        "            self.buffer[self.pos] = (state, action, reward, next_state, done)\n",
        "        \n",
        "        self.pos = (self.pos + 1) % self.capacity\n",
        "    \n",
        "    def sample(self, batch_size):\n",
        "        \n",
        "        indices = np.random.choice(len(self.buffer), batch_size, replace=False)\n",
        "        samples = [self.buffer[idx] for idx in indices]\n",
        "        \n",
        "        batch = np.asarray(list(zip(*samples)))\n",
        "        states = np.concatenate(batch[0])\n",
        "        actions = batch[1]\n",
        "        rewards = batch[2]\n",
        "        next_states = np.concatenate(batch[3])\n",
        "        dones = batch[4]\n",
        "        \n",
        "        return states, actions, rewards, next_states, dones, indices\n",
        "\n",
        "    def __len__(self):\n",
        "        return len(self.buffer)"
      ],
      "execution_count": null,
      "outputs": []
    },
    {
      "cell_type": "code",
      "metadata": {
        "id": "PsjR_Swrwsgg"
      },
      "source": [
        "\"\"\" Step 2.1: Define the Deep Q Network using Pytorch\n",
        "    Step 2.2: Define the forward pass through the network\"\"\"\n",
        "\n",
        "class DQN(nn.Module):\n",
        "    def __init__(self, num_inputs, num_actions, device):\n",
        "        super().__init__()\n",
        "        \n",
        "        \"\"\"Define a fully connected neural network for predicting the Q values, given a state\n",
        "        The network will have 1 input layer, 1 hidden layer and 1 output layer.\n",
        "        Use 128 units for the hidden layer\"\"\"\n",
        "\n",
        "        # Step 2.1: Define a Sequential network in Pytorch\n",
        "        self.layers = nn.Sequential(\n",
        "          nn.Linear(num_inputs,128), #INPUT LAYER\n",
        "          nn.ReLU(),\n",
        "          nn.Linear(128,256), #HIDDEN LAYER\n",
        "          nn.ReLU(),\n",
        "          nn.Linear(256,num_actions), #OUTPUT LAYER\n",
        "        )\n",
        "\n",
        "        self.num_actions = num_actions\n",
        "        self.device = device\n",
        "        \n",
        "    def forward(self, x):\n",
        "        # Step 2.2: Forward pass through the Sequential network defined in Step 7 and return the output\n",
        "        # The output dimension should be batch, num_actions. The input x has batch, num_inputs dimensions\n",
        "        op = self.layers(x)\n",
        "        return op\n",
        "    \n",
        "    def act(self, state, epsilon):\n",
        "        state = torch.tensor(state).float().unsqueeze(0).to(self.device)\n",
        "        if random.random() > epsilon:\n",
        "            q_value = self.forward(state)\n",
        "            action  = q_value.max(1)[1].data[0].item()\n",
        "        else:\n",
        "            action = random.randrange(self.num_actions)\n",
        "        return action"
      ],
      "execution_count": null,
      "outputs": []
    },
    {
      "cell_type": "code",
      "metadata": {
        "id": "XHU8tZhy4QFp"
      },
      "source": [
        "\"\"\" Implement the get_target function.\n",
        "    This function should perform the following:\n",
        "    Step 3.1: Get the bootstrapped Q values for the next state\n",
        "    Step 3.2: Calculate the TD target using the Bellman equation\"\"\"\n",
        "def get_target(model, next_state, reward, gamma, done):\n",
        "    \n",
        "    model.eval()\n",
        "    with torch.no_grad():\n",
        "        # Step 3.1: Get the bootstrapped Q values for the next state\n",
        "        next_q_values = model(next_state)\n",
        "        next_q_value = next_q_values.max(1)[0]\n",
        "        # Step 3.2: Calculate and return the TD target using the Bellman equation\n",
        "        expected_q_value = reward+gamma*next_q_value*(1-done)\n",
        "\n",
        "    return expected_q_value"
      ],
      "execution_count": null,
      "outputs": []
    },
    {
      "cell_type": "code",
      "metadata": {
        "id": "bcjCmRVaADIf"
      },
      "source": [
        "\"\"\" Step 4.1: Sample a batch of examples from the replay buffer\n",
        "    Step 4.2: Get the predicted Q values of the sampled state by forward pass\n",
        "            through the DQN\n",
        "    Step 4.3: Gather only the Q values that correspond to the actions sampled \n",
        "            from the replay buffer  \n",
        "    Step 4.4: Get the target Q values of the sampled state by using the Bellamn \n",
        "            Equation. The Q value of next states are estimated by a forward pass \n",
        "            through the target network\n",
        "    Step 4.5: Calculate the Mean Squared Error loss between the predicted Q value \n",
        "            and target Q value by using the appropriate loss function in Pytorch.\n",
        "    Step 4.6: Back propagate the losses and update the model weights\n",
        "\"\"\"\n",
        "def compute_td_loss(batch_size, device, dqn_model, target_model):\n",
        "\n",
        "    # Step 4.1: Sample a batch of examples from the replay buffer\n",
        "    state, action, reward, next_state, done, indices = replay_buffer.sample(batch_size) \n",
        "\n",
        "    state = torch.tensor(state.astype('float') ).float().to(device) #batch, n\n",
        "    next_state = torch.tensor(next_state.astype('float') ).float().to(device)#batch, n\n",
        "    action = torch.tensor(action.astype('float') ).long().to(device)#batch\n",
        "    reward = torch.tensor(reward.astype('float') ).float().to(device)#batch\n",
        "    done = torch.tensor(done.astype('float') ).float().to(device)#batch\n",
        "    \n",
        "    dqn_model.train()\n",
        "    # Step 4.2: Get the predicted Q values of the sampled state by forward pass through the DQN\n",
        "    q_values = dqn_model.forward(state)\n",
        "    # Step 4.3: Gather only the Q values that correspond to the actions sampled from the replay buffer  \n",
        "    q_value = q_values.gather(1, action.unsqueeze(1)).squeeze(1)\n",
        "    # Step 4.4: Get the target Q values of the sampled state by using the Bellamn Equation. \n",
        "    # The Q value of next states are estimated by a forward pass through the target network.\n",
        "    # Already implemented\n",
        "    expected_q_value = get_target(target_model, next_state, reward, gamma, done)\n",
        "    \n",
        "    # Step 4.5: Calculate the Meam Squared Error loss between the predicted Q value and target Q value\n",
        "    #print(\"Test\")\n",
        "    #print(q_value,expected_q_value)\n",
        "    loss = F.mse_loss(q_value, expected_q_value) \n",
        "    # Step 4.6: Back propagate the losses and update the model weights\n",
        "    optimizer.zero_grad()\n",
        "    loss.backward()\n",
        "    optimizer.step()\n",
        "    return loss"
      ],
      "execution_count": null,
      "outputs": []
    },
    {
      "cell_type": "code",
      "metadata": {
        "id": "0AJfX8vZVY8E"
      },
      "source": [
        ""
      ],
      "execution_count": null,
      "outputs": []
    },
    {
      "cell_type": "code",
      "metadata": {
        "id": "t79IxPsAADNV"
      },
      "source": [
        "epsilon_start = 1.0\n",
        "epsilon_final = 0.01\n",
        "epsilon_decay = 500\n",
        "\n",
        "# This function decays the epsilon over time\n",
        "epsilon_by_frame = lambda frame_idx: epsilon_final + (epsilon_start - epsilon_final) * math.exp(-1. * frame_idx / epsilon_decay)"
      ],
      "execution_count": null,
      "outputs": []
    },
    {
      "cell_type": "code",
      "metadata": {
        "id": "cBc-Zyro2nzw"
      },
      "source": [
        "#Utility function to plot reward and loss during training\n",
        "\n",
        "def plot(frame_idx, rewards, losses):\n",
        "    clear_output(True)\n",
        "    plt.figure(figsize=(20,5))\n",
        "    plt.subplot(131)\n",
        "    plt.title('frame %s. reward: %s' % (frame_idx, np.mean(rewards[-10:])))\n",
        "    plt.plot(rewards)\n",
        "    plt.subplot(132)\n",
        "    plt.title('loss')\n",
        "    plt.plot(losses)\n",
        "    plt.show()"
      ],
      "execution_count": null,
      "outputs": []
    },
    {
      "cell_type": "code",
      "metadata": {
        "id": "GlAF3fp91z7m"
      },
      "source": [
        "# Step 5.1: Define learning rate\n",
        "# Already implemented\n",
        "learningrate = 1e-4\n",
        "\n",
        "# Step 5.2: Instantiate the DQN model and the Target model, and move the model to GPU (if using GPU else CPU)\n",
        "# Already implemented\n",
        "dqn_model = DQN(env.observation_space.shape[0], env.action_space.n, device).to(device)\n",
        "target_model  = DQN(env.observation_space.shape[0], env.action_space.n, device).to(device)\n",
        "\n",
        "# Step 5.3: Remember that the Target model have the same parameters as the DQN. \n",
        "# Hence, we need to copy the parameters of the DQN to the Target network.\n",
        "# Already implemented\n",
        "target_model.load_state_dict(dqn_model.state_dict())\n",
        "\n",
        "# Step 5.4: Define an optimizer for training the parameters.\n",
        "# We are going to use Adam, which generally works better than SGD\n",
        "# Already implemented\n",
        "optimizer = optim.Adam(dqn_model.parameters(), lr=learningrate)\n",
        "\n",
        "# Step 5.5: Initializing the replay buffer, and the training parameters\n",
        "# Already implemented\n",
        "replay_buffer = ReplayBuffer(100000)\n",
        "num_frames = 15000\n",
        "batch_size = 64\n",
        "gamma = 0.99\n",
        "\n",
        "losses = []\n",
        "all_rewards = []\n",
        "episode_reward = 0\n",
        "\n",
        "state = env.reset()"
      ],
      "execution_count": null,
      "outputs": []
    },
    {
      "cell_type": "code",
      "metadata": {
        "id": "M7IQFmv9RRmn"
      },
      "source": [
        "#DO NOT Change\n",
        "def basis_transform(state):\n",
        "    return np.asarray(state)"
      ],
      "execution_count": null,
      "outputs": []
    },
    {
      "cell_type": "markdown",
      "metadata": {
        "id": "v1SnHP5PUg5P"
      },
      "source": [
        "# Now we finally start the training process"
      ]
    },
    {
      "cell_type": "code",
      "metadata": {
        "id": "YiTaD8Zf2pdg",
        "colab": {
          "base_uri": "https://localhost:8080/",
          "height": 335
        },
        "outputId": "f2ac1c29-cac3-41a3-caa1-cf52568a08f7"
      },
      "source": [
        "for frame_idx in range(1, num_frames + 1):\n",
        "\n",
        "    epsilon = epsilon_by_frame(frame_idx)\n",
        "    \n",
        "    # Step 6.1: Given the current state \"state\", sample an action from the Q network\n",
        "    action = dqn_model.act(state, epsilon)\n",
        "    \n",
        "    # Step 6.2: Perform the previously sampled action on the environment, and\n",
        "    # observe the next state and reward\n",
        "    next_state, reward, done, _ =  env.step(action)\n",
        "    next_state = basis_transform(next_state)\n",
        "    # Step 6.3: Push the experience to the replay buffer. Already implemented\n",
        "    replay_buffer.push(state, action, reward, next_state, done)\n",
        "    \n",
        "    state = next_state\n",
        "    episode_reward += reward\n",
        "    \n",
        "    if done:\n",
        "        # Step 6.4: If the episode terminates, we reset the episode and episode_reward.\n",
        "        # Already implemented\n",
        "        state = env.reset()\n",
        "        all_rewards.append(episode_reward)\n",
        "        episode_reward = 0\n",
        "        \n",
        "    if len(replay_buffer) > batch_size:\n",
        "        # Step 6.5: Only if we have enough examples in the replay buffer, we train the DQN\n",
        "        # Already implemented\n",
        "        loss = compute_td_loss(batch_size, device, dqn_model, target_model)\n",
        "        losses.append(loss.item())\n",
        "        \n",
        "    if frame_idx % 200 == 0:\n",
        "        # Step 6.6: Plot the reward and loss every 200 episode\n",
        "        # The environment is considered solved when the reward per episode is consistantly >= 190\n",
        "        # Already implemented\n",
        "        plot(frame_idx, all_rewards, losses)\n",
        "        \n",
        "    if frame_idx % 1000 == 0:\n",
        "        # Step 6.7: Copy the parameters of the DQN to the Target network after every 100 episodes\n",
        "        # Already implemented\n",
        "        target_model.load_state_dict(dqn_model.state_dict())"
      ],
      "execution_count": null,
      "outputs": [
        {
          "output_type": "display_data",
          "data": {
            "image/png": "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\n",
            "text/plain": [
              "<Figure size 1440x360 with 2 Axes>"
            ]
          },
          "metadata": {
            "tags": [],
            "needs_background": "light"
          }
        }
      ]
    },
    {
      "cell_type": "code",
      "metadata": {
        "colab": {
          "base_uri": "https://localhost:8080/"
        },
        "id": "-K_vAh9OBx5n",
        "outputId": "37def9b6-eae1-4e3d-acaf-dcba1c60ef42"
      },
      "source": [
        "# After successfully training the DQN, Run to below code to view the agent's permormance\n",
        "# Already implemented \n",
        "env = gym.make('CartPole-v0')\n",
        "env = wrap_env(env)\n",
        "\n",
        "frame = env.reset()\n",
        "\n",
        "is_done = False\n",
        "counter = 0\n",
        "tot_reward = 0\n",
        "while not is_done:\n",
        "  with torch.no_grad():\n",
        "    inpt = torch.tensor(frame).float().unsqueeze(0).to(device)\n",
        "    action = dqn_model(inpt).squeeze().argmax().item()\n",
        "    frame, reward, is_done, _ = env.step(action)\n",
        "    counter += 1\n",
        "    tot_reward += reward\n",
        "\n",
        "env.close()\n",
        "show_video()"
      ],
      "execution_count": null,
      "outputs": [
        {
          "output_type": "display_data",
          "data": {
            "text/html": [
              "<video alt=\"test\" autoplay \n",
              "                loop controls style=\"height: 400px;\">\n",
              "                <source src=\"data:video/mp4;base64,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\" type=\"video/mp4\" />\n",
              "             </video>"
            ],
            "text/plain": [
              "<IPython.core.display.HTML object>"
            ]
          },
          "metadata": {
            "tags": []
          }
        }
      ]
    }
  ]
}
